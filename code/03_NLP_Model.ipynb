{
 "cells": [
  {
   "cell_type": "code",
   "execution_count": 1,
   "metadata": {},
   "outputs": [],
   "source": [
    "import pandas as pd\n",
    "import numpy as np\n",
    "import seaborn as sns\n",
    "\n",
    "from sklearn.model_selection import train_test_split, GridSearchCV\n",
    "from sklearn.pipeline import Pipeline\n",
    "from sklearn.feature_extraction.text import CountVectorizer, TfidfVectorizer\n",
    "\n",
    "from sklearn.naive_bayes import MultinomialNB\n",
    "from sklearn.linear_model import LogisticRegression\n",
    "from sklearn.ensemble import RandomForestClassifier\n",
    "from sklearn.metrics import confusion_matrix, plot_confusion_matrix"
   ]
  },
  {
   "cell_type": "code",
   "execution_count": 2,
   "metadata": {},
   "outputs": [],
   "source": [
    "df_Fallout = pd.read_csv('./data/r_Fallout.csv')\n",
    "df_GTA = pd.read_csv('./data/r_GrandTheftAutoV.csv')"
   ]
  },
  {
   "cell_type": "markdown",
   "metadata": {},
   "source": [
    "## Initial Data Cleaning"
   ]
  },
  {
   "cell_type": "code",
   "execution_count": 3,
   "metadata": {},
   "outputs": [],
   "source": [
    "# Drop duplicates and null values\n",
    "df_Fallout = df_Fallout.drop_duplicates()\n",
    "df_Fallout = df_Fallout.dropna()\n",
    "df_GTA = df_GTA.drop_duplicates()\n",
    "df_GTA = df_GTA.dropna()\n",
    "\n",
    "# Drop posts that were removed from original webscrape\n",
    "filter1 = df_Fallout['selftext']=='[removed]'\n",
    "filter2 = df_GTA['selftext']=='[removed]'\n",
    "\n",
    "df_Fallout = df_Fallout.drop(df_Fallout[filter1].index, axis=0)\n",
    "df_GTA = df_GTA.drop(df_GTA[filter2].index, axis=0)"
   ]
  },
  {
   "cell_type": "code",
   "execution_count": 4,
   "metadata": {},
   "outputs": [],
   "source": [
    "# Clear miscellaneous characters\n",
    "df_Fallout['selftext'] = df_Fallout['selftext'].str.replace('\\n', '')\n",
    "df_GTA['selftext'] = df_GTA['selftext'].str.replace('\\n', '')"
   ]
  },
  {
   "cell_type": "code",
   "execution_count": 5,
   "metadata": {},
   "outputs": [
    {
     "data": {
      "text/html": [
       "<div>\n",
       "<style scoped>\n",
       "    .dataframe tbody tr th:only-of-type {\n",
       "        vertical-align: middle;\n",
       "    }\n",
       "\n",
       "    .dataframe tbody tr th {\n",
       "        vertical-align: top;\n",
       "    }\n",
       "\n",
       "    .dataframe thead th {\n",
       "        text-align: right;\n",
       "    }\n",
       "</style>\n",
       "<table border=\"1\" class=\"dataframe\">\n",
       "  <thead>\n",
       "    <tr style=\"text-align: right;\">\n",
       "      <th></th>\n",
       "      <th>created_utc</th>\n",
       "      <th>author</th>\n",
       "      <th>selftext</th>\n",
       "      <th>title</th>\n",
       "      <th>subreddit</th>\n",
       "    </tr>\n",
       "  </thead>\n",
       "  <tbody>\n",
       "    <tr>\n",
       "      <th>0</th>\n",
       "      <td>1615996307</td>\n",
       "      <td>Chchbitcheetah</td>\n",
       "      <td>I have a PS4 and looking to find another girl ...</td>\n",
       "      <td>Someone play GTA</td>\n",
       "      <td>GrandTheftAutoV</td>\n",
       "    </tr>\n",
       "    <tr>\n",
       "      <th>1</th>\n",
       "      <td>1615994614</td>\n",
       "      <td>MidoriTea</td>\n",
       "      <td>I know you can do the 50 stunt jumps online, b...</td>\n",
       "      <td>Under the Bridge online?</td>\n",
       "      <td>GrandTheftAutoV</td>\n",
       "    </tr>\n",
       "    <tr>\n",
       "      <th>3</th>\n",
       "      <td>1615992134</td>\n",
       "      <td>Litla_Tikin</td>\n",
       "      <td>Could this be because of the update? and is th...</td>\n",
       "      <td>The game is lagging so much all of a sudden...</td>\n",
       "      <td>GrandTheftAutoV</td>\n",
       "    </tr>\n",
       "    <tr>\n",
       "      <th>4</th>\n",
       "      <td>1615990906</td>\n",
       "      <td>DivineCheeta</td>\n",
       "      <td>Hi, im experiencing a bug possibly in Gta Onli...</td>\n",
       "      <td>Treasure hunt issues.</td>\n",
       "      <td>GrandTheftAutoV</td>\n",
       "    </tr>\n",
       "    <tr>\n",
       "      <th>7</th>\n",
       "      <td>1615983907</td>\n",
       "      <td>kn00perss</td>\n",
       "      <td>Hey, is there someone with the same problem as...</td>\n",
       "      <td>Can't run GTA V</td>\n",
       "      <td>GrandTheftAutoV</td>\n",
       "    </tr>\n",
       "    <tr>\n",
       "      <th>...</th>\n",
       "      <td>...</td>\n",
       "      <td>...</td>\n",
       "      <td>...</td>\n",
       "      <td>...</td>\n",
       "      <td>...</td>\n",
       "    </tr>\n",
       "    <tr>\n",
       "      <th>19992</th>\n",
       "      <td>1576431397</td>\n",
       "      <td>Drewparker69</td>\n",
       "      <td>Does anyone have the gunman unlocked that had ...</td>\n",
       "      <td>Diamond heists gunman locked?</td>\n",
       "      <td>GrandTheftAutoV</td>\n",
       "    </tr>\n",
       "    <tr>\n",
       "      <th>19993</th>\n",
       "      <td>1576427982</td>\n",
       "      <td>Litto10</td>\n",
       "      <td>Can someone help me? I have this problem: ever...</td>\n",
       "      <td>Help</td>\n",
       "      <td>GrandTheftAutoV</td>\n",
       "    </tr>\n",
       "    <tr>\n",
       "      <th>19996</th>\n",
       "      <td>1576425576</td>\n",
       "      <td>OFF-WH1TE</td>\n",
       "      <td>**PC AND PS4 GTA CARMEETS | HYPE CAR CLUB**📷In...</td>\n",
       "      <td>GTA V CARMEETS</td>\n",
       "      <td>GrandTheftAutoV</td>\n",
       "    </tr>\n",
       "    <tr>\n",
       "      <th>19997</th>\n",
       "      <td>1576423854</td>\n",
       "      <td>fox_score</td>\n",
       "      <td>For some reason all my vehicles will go from t...</td>\n",
       "      <td>Cars not leaving second gear</td>\n",
       "      <td>GrandTheftAutoV</td>\n",
       "    </tr>\n",
       "    <tr>\n",
       "      <th>19999</th>\n",
       "      <td>1576422963</td>\n",
       "      <td>Leonx132</td>\n",
       "      <td>so im trying to get all 10 POI's from the scop...</td>\n",
       "      <td>Casino Heist Scope Out BUG</td>\n",
       "      <td>GrandTheftAutoV</td>\n",
       "    </tr>\n",
       "  </tbody>\n",
       "</table>\n",
       "<p>8465 rows × 5 columns</p>\n",
       "</div>"
      ],
      "text/plain": [
       "       created_utc          author  \\\n",
       "0       1615996307  Chchbitcheetah   \n",
       "1       1615994614       MidoriTea   \n",
       "3       1615992134     Litla_Tikin   \n",
       "4       1615990906    DivineCheeta   \n",
       "7       1615983907       kn00perss   \n",
       "...            ...             ...   \n",
       "19992   1576431397    Drewparker69   \n",
       "19993   1576427982         Litto10   \n",
       "19996   1576425576       OFF-WH1TE   \n",
       "19997   1576423854       fox_score   \n",
       "19999   1576422963        Leonx132   \n",
       "\n",
       "                                                selftext  \\\n",
       "0      I have a PS4 and looking to find another girl ...   \n",
       "1      I know you can do the 50 stunt jumps online, b...   \n",
       "3      Could this be because of the update? and is th...   \n",
       "4      Hi, im experiencing a bug possibly in Gta Onli...   \n",
       "7      Hey, is there someone with the same problem as...   \n",
       "...                                                  ...   \n",
       "19992  Does anyone have the gunman unlocked that had ...   \n",
       "19993  Can someone help me? I have this problem: ever...   \n",
       "19996  **PC AND PS4 GTA CARMEETS | HYPE CAR CLUB**📷In...   \n",
       "19997  For some reason all my vehicles will go from t...   \n",
       "19999  so im trying to get all 10 POI's from the scop...   \n",
       "\n",
       "                                                title        subreddit  \n",
       "0                                    Someone play GTA  GrandTheftAutoV  \n",
       "1                            Under the Bridge online?  GrandTheftAutoV  \n",
       "3      The game is lagging so much all of a sudden...  GrandTheftAutoV  \n",
       "4                               Treasure hunt issues.  GrandTheftAutoV  \n",
       "7                                     Can't run GTA V  GrandTheftAutoV  \n",
       "...                                               ...              ...  \n",
       "19992                   Diamond heists gunman locked?  GrandTheftAutoV  \n",
       "19993                                            Help  GrandTheftAutoV  \n",
       "19996                                  GTA V CARMEETS  GrandTheftAutoV  \n",
       "19997                    Cars not leaving second gear  GrandTheftAutoV  \n",
       "19999                      Casino Heist Scope Out BUG  GrandTheftAutoV  \n",
       "\n",
       "[8465 rows x 5 columns]"
      ]
     },
     "execution_count": 5,
     "metadata": {},
     "output_type": "execute_result"
    }
   ],
   "source": [
    "df_GTA"
   ]
  },
  {
   "cell_type": "code",
   "execution_count": 6,
   "metadata": {},
   "outputs": [
    {
     "data": {
      "text/html": [
       "<div>\n",
       "<style scoped>\n",
       "    .dataframe tbody tr th:only-of-type {\n",
       "        vertical-align: middle;\n",
       "    }\n",
       "\n",
       "    .dataframe tbody tr th {\n",
       "        vertical-align: top;\n",
       "    }\n",
       "\n",
       "    .dataframe thead th {\n",
       "        text-align: right;\n",
       "    }\n",
       "</style>\n",
       "<table border=\"1\" class=\"dataframe\">\n",
       "  <thead>\n",
       "    <tr style=\"text-align: right;\">\n",
       "      <th></th>\n",
       "      <th>created_utc</th>\n",
       "      <th>author</th>\n",
       "      <th>selftext</th>\n",
       "      <th>title</th>\n",
       "      <th>subreddit</th>\n",
       "    </tr>\n",
       "  </thead>\n",
       "  <tbody>\n",
       "    <tr>\n",
       "      <th>0</th>\n",
       "      <td>1615945779</td>\n",
       "      <td>40classicsfeatJim</td>\n",
       "      <td>I know of the save data issue (as I ran into i...</td>\n",
       "      <td>Is it worth playing New Vegas on PS3?</td>\n",
       "      <td>Fallout</td>\n",
       "    </tr>\n",
       "    <tr>\n",
       "      <th>1</th>\n",
       "      <td>1615945739</td>\n",
       "      <td>Caesar-legion</td>\n",
       "      <td>I have heard time and time again that when lan...</td>\n",
       "      <td>Is legate lanius a good leader</td>\n",
       "      <td>Fallout</td>\n",
       "    </tr>\n",
       "    <tr>\n",
       "      <th>2</th>\n",
       "      <td>1615945502</td>\n",
       "      <td>politicaly_incorect</td>\n",
       "      <td>Ok hear me out here as i list all the simalari...</td>\n",
       "      <td>Anyone else notice that 2021 looks alot like l...</td>\n",
       "      <td>Fallout</td>\n",
       "    </tr>\n",
       "    <tr>\n",
       "      <th>3</th>\n",
       "      <td>1615945411</td>\n",
       "      <td>Mr_Tubberz</td>\n",
       "      <td>So I’m messing around with mods and all of a s...</td>\n",
       "      <td>Can’t reload gun!</td>\n",
       "      <td>Fallout</td>\n",
       "    </tr>\n",
       "    <tr>\n",
       "      <th>5</th>\n",
       "      <td>1615945005</td>\n",
       "      <td>Mattlew0YT</td>\n",
       "      <td>Ok! The war f#cked up US and China, but what a...</td>\n",
       "      <td>What happened with the rest of the world?</td>\n",
       "      <td>Fallout</td>\n",
       "    </tr>\n",
       "    <tr>\n",
       "      <th>...</th>\n",
       "      <td>...</td>\n",
       "      <td>...</td>\n",
       "      <td>...</td>\n",
       "      <td>...</td>\n",
       "      <td>...</td>\n",
       "    </tr>\n",
       "    <tr>\n",
       "      <th>19994</th>\n",
       "      <td>1596847803</td>\n",
       "      <td>DoctorDanDungus</td>\n",
       "      <td>https://www.youtube.com/watch?v=JJO_tmiwdPE&amp;am...</td>\n",
       "      <td>Last week I published Part 1 of a fun \"miniser...</td>\n",
       "      <td>Fallout</td>\n",
       "    </tr>\n",
       "    <tr>\n",
       "      <th>19995</th>\n",
       "      <td>1596847708</td>\n",
       "      <td>dave41468</td>\n",
       "      <td>I know there is a way to disable blood, but ho...</td>\n",
       "      <td>Fallout 4 settings</td>\n",
       "      <td>Fallout</td>\n",
       "    </tr>\n",
       "    <tr>\n",
       "      <th>19996</th>\n",
       "      <td>1596847509</td>\n",
       "      <td>pravhoven</td>\n",
       "      <td>Some settlements are right next to big sources...</td>\n",
       "      <td>[FO4] Water so close yet so far.</td>\n",
       "      <td>Fallout</td>\n",
       "    </tr>\n",
       "    <tr>\n",
       "      <th>19997</th>\n",
       "      <td>1596846928</td>\n",
       "      <td>haha365</td>\n",
       "      <td>If possible,  please give reasons. I always wa...</td>\n",
       "      <td>Is the Ambush Kit worth it?</td>\n",
       "      <td>Fallout</td>\n",
       "    </tr>\n",
       "    <tr>\n",
       "      <th>19998</th>\n",
       "      <td>1596845448</td>\n",
       "      <td>islayMalter</td>\n",
       "      <td>Heard a lot about Fallout, spent time reading ...</td>\n",
       "      <td>Fallout New Vegas as My First Fallout Game - B...</td>\n",
       "      <td>Fallout</td>\n",
       "    </tr>\n",
       "  </tbody>\n",
       "</table>\n",
       "<p>13598 rows × 5 columns</p>\n",
       "</div>"
      ],
      "text/plain": [
       "       created_utc               author  \\\n",
       "0       1615945779    40classicsfeatJim   \n",
       "1       1615945739        Caesar-legion   \n",
       "2       1615945502  politicaly_incorect   \n",
       "3       1615945411           Mr_Tubberz   \n",
       "5       1615945005           Mattlew0YT   \n",
       "...            ...                  ...   \n",
       "19994   1596847803      DoctorDanDungus   \n",
       "19995   1596847708            dave41468   \n",
       "19996   1596847509            pravhoven   \n",
       "19997   1596846928              haha365   \n",
       "19998   1596845448          islayMalter   \n",
       "\n",
       "                                                selftext  \\\n",
       "0      I know of the save data issue (as I ran into i...   \n",
       "1      I have heard time and time again that when lan...   \n",
       "2      Ok hear me out here as i list all the simalari...   \n",
       "3      So I’m messing around with mods and all of a s...   \n",
       "5      Ok! The war f#cked up US and China, but what a...   \n",
       "...                                                  ...   \n",
       "19994  https://www.youtube.com/watch?v=JJO_tmiwdPE&am...   \n",
       "19995  I know there is a way to disable blood, but ho...   \n",
       "19996  Some settlements are right next to big sources...   \n",
       "19997  If possible,  please give reasons. I always wa...   \n",
       "19998  Heard a lot about Fallout, spent time reading ...   \n",
       "\n",
       "                                                   title subreddit  \n",
       "0                  Is it worth playing New Vegas on PS3?   Fallout  \n",
       "1                         Is legate lanius a good leader   Fallout  \n",
       "2      Anyone else notice that 2021 looks alot like l...   Fallout  \n",
       "3                                      Can’t reload gun!   Fallout  \n",
       "5              What happened with the rest of the world?   Fallout  \n",
       "...                                                  ...       ...  \n",
       "19994  Last week I published Part 1 of a fun \"miniser...   Fallout  \n",
       "19995                                 Fallout 4 settings   Fallout  \n",
       "19996                   [FO4] Water so close yet so far.   Fallout  \n",
       "19997                        Is the Ambush Kit worth it?   Fallout  \n",
       "19998  Fallout New Vegas as My First Fallout Game - B...   Fallout  \n",
       "\n",
       "[13598 rows x 5 columns]"
      ]
     },
     "execution_count": 6,
     "metadata": {},
     "output_type": "execute_result"
    }
   ],
   "source": [
    "df_Fallout"
   ]
  },
  {
   "cell_type": "code",
   "execution_count": 7,
   "metadata": {},
   "outputs": [],
   "source": [
    "# Combine data from both datasets\n",
    "df = pd.concat([df_Fallout, df_GTA], axis =0 )"
   ]
  },
  {
   "cell_type": "code",
   "execution_count": 8,
   "metadata": {},
   "outputs": [],
   "source": [
    "# Rename column headers\n",
    "df.columns = ['timestamp', 'author', 'post_text', 'post_title', 'category']"
   ]
  },
  {
   "cell_type": "code",
   "execution_count": 9,
   "metadata": {},
   "outputs": [
    {
     "data": {
      "text/html": [
       "<div>\n",
       "<style scoped>\n",
       "    .dataframe tbody tr th:only-of-type {\n",
       "        vertical-align: middle;\n",
       "    }\n",
       "\n",
       "    .dataframe tbody tr th {\n",
       "        vertical-align: top;\n",
       "    }\n",
       "\n",
       "    .dataframe thead th {\n",
       "        text-align: right;\n",
       "    }\n",
       "</style>\n",
       "<table border=\"1\" class=\"dataframe\">\n",
       "  <thead>\n",
       "    <tr style=\"text-align: right;\">\n",
       "      <th></th>\n",
       "      <th>timestamp</th>\n",
       "      <th>author</th>\n",
       "      <th>post_text</th>\n",
       "      <th>post_title</th>\n",
       "      <th>category</th>\n",
       "    </tr>\n",
       "  </thead>\n",
       "  <tbody>\n",
       "    <tr>\n",
       "      <th>0</th>\n",
       "      <td>1615945779</td>\n",
       "      <td>40classicsfeatJim</td>\n",
       "      <td>I know of the save data issue (as I ran into i...</td>\n",
       "      <td>Is it worth playing New Vegas on PS3?</td>\n",
       "      <td>Fallout</td>\n",
       "    </tr>\n",
       "    <tr>\n",
       "      <th>1</th>\n",
       "      <td>1615945739</td>\n",
       "      <td>Caesar-legion</td>\n",
       "      <td>I have heard time and time again that when lan...</td>\n",
       "      <td>Is legate lanius a good leader</td>\n",
       "      <td>Fallout</td>\n",
       "    </tr>\n",
       "    <tr>\n",
       "      <th>2</th>\n",
       "      <td>1615945502</td>\n",
       "      <td>politicaly_incorect</td>\n",
       "      <td>Ok hear me out here as i list all the simalari...</td>\n",
       "      <td>Anyone else notice that 2021 looks alot like l...</td>\n",
       "      <td>Fallout</td>\n",
       "    </tr>\n",
       "    <tr>\n",
       "      <th>3</th>\n",
       "      <td>1615945411</td>\n",
       "      <td>Mr_Tubberz</td>\n",
       "      <td>So I’m messing around with mods and all of a s...</td>\n",
       "      <td>Can’t reload gun!</td>\n",
       "      <td>Fallout</td>\n",
       "    </tr>\n",
       "    <tr>\n",
       "      <th>5</th>\n",
       "      <td>1615945005</td>\n",
       "      <td>Mattlew0YT</td>\n",
       "      <td>Ok! The war f#cked up US and China, but what a...</td>\n",
       "      <td>What happened with the rest of the world?</td>\n",
       "      <td>Fallout</td>\n",
       "    </tr>\n",
       "    <tr>\n",
       "      <th>...</th>\n",
       "      <td>...</td>\n",
       "      <td>...</td>\n",
       "      <td>...</td>\n",
       "      <td>...</td>\n",
       "      <td>...</td>\n",
       "    </tr>\n",
       "    <tr>\n",
       "      <th>19992</th>\n",
       "      <td>1576431397</td>\n",
       "      <td>Drewparker69</td>\n",
       "      <td>Does anyone have the gunman unlocked that had ...</td>\n",
       "      <td>Diamond heists gunman locked?</td>\n",
       "      <td>GrandTheftAutoV</td>\n",
       "    </tr>\n",
       "    <tr>\n",
       "      <th>19993</th>\n",
       "      <td>1576427982</td>\n",
       "      <td>Litto10</td>\n",
       "      <td>Can someone help me? I have this problem: ever...</td>\n",
       "      <td>Help</td>\n",
       "      <td>GrandTheftAutoV</td>\n",
       "    </tr>\n",
       "    <tr>\n",
       "      <th>19996</th>\n",
       "      <td>1576425576</td>\n",
       "      <td>OFF-WH1TE</td>\n",
       "      <td>**PC AND PS4 GTA CARMEETS | HYPE CAR CLUB**📷In...</td>\n",
       "      <td>GTA V CARMEETS</td>\n",
       "      <td>GrandTheftAutoV</td>\n",
       "    </tr>\n",
       "    <tr>\n",
       "      <th>19997</th>\n",
       "      <td>1576423854</td>\n",
       "      <td>fox_score</td>\n",
       "      <td>For some reason all my vehicles will go from t...</td>\n",
       "      <td>Cars not leaving second gear</td>\n",
       "      <td>GrandTheftAutoV</td>\n",
       "    </tr>\n",
       "    <tr>\n",
       "      <th>19999</th>\n",
       "      <td>1576422963</td>\n",
       "      <td>Leonx132</td>\n",
       "      <td>so im trying to get all 10 POI's from the scop...</td>\n",
       "      <td>Casino Heist Scope Out BUG</td>\n",
       "      <td>GrandTheftAutoV</td>\n",
       "    </tr>\n",
       "  </tbody>\n",
       "</table>\n",
       "<p>22063 rows × 5 columns</p>\n",
       "</div>"
      ],
      "text/plain": [
       "        timestamp               author  \\\n",
       "0      1615945779    40classicsfeatJim   \n",
       "1      1615945739        Caesar-legion   \n",
       "2      1615945502  politicaly_incorect   \n",
       "3      1615945411           Mr_Tubberz   \n",
       "5      1615945005           Mattlew0YT   \n",
       "...           ...                  ...   \n",
       "19992  1576431397         Drewparker69   \n",
       "19993  1576427982              Litto10   \n",
       "19996  1576425576            OFF-WH1TE   \n",
       "19997  1576423854            fox_score   \n",
       "19999  1576422963             Leonx132   \n",
       "\n",
       "                                               post_text  \\\n",
       "0      I know of the save data issue (as I ran into i...   \n",
       "1      I have heard time and time again that when lan...   \n",
       "2      Ok hear me out here as i list all the simalari...   \n",
       "3      So I’m messing around with mods and all of a s...   \n",
       "5      Ok! The war f#cked up US and China, but what a...   \n",
       "...                                                  ...   \n",
       "19992  Does anyone have the gunman unlocked that had ...   \n",
       "19993  Can someone help me? I have this problem: ever...   \n",
       "19996  **PC AND PS4 GTA CARMEETS | HYPE CAR CLUB**📷In...   \n",
       "19997  For some reason all my vehicles will go from t...   \n",
       "19999  so im trying to get all 10 POI's from the scop...   \n",
       "\n",
       "                                              post_title         category  \n",
       "0                  Is it worth playing New Vegas on PS3?          Fallout  \n",
       "1                         Is legate lanius a good leader          Fallout  \n",
       "2      Anyone else notice that 2021 looks alot like l...          Fallout  \n",
       "3                                      Can’t reload gun!          Fallout  \n",
       "5              What happened with the rest of the world?          Fallout  \n",
       "...                                                  ...              ...  \n",
       "19992                      Diamond heists gunman locked?  GrandTheftAutoV  \n",
       "19993                                               Help  GrandTheftAutoV  \n",
       "19996                                     GTA V CARMEETS  GrandTheftAutoV  \n",
       "19997                       Cars not leaving second gear  GrandTheftAutoV  \n",
       "19999                         Casino Heist Scope Out BUG  GrandTheftAutoV  \n",
       "\n",
       "[22063 rows x 5 columns]"
      ]
     },
     "execution_count": 9,
     "metadata": {},
     "output_type": "execute_result"
    }
   ],
   "source": [
    "df"
   ]
  },
  {
   "cell_type": "code",
   "execution_count": 10,
   "metadata": {},
   "outputs": [],
   "source": [
    "df['word_count'] = [len(status.split(' ')) for status in df['post_text']]"
   ]
  },
  {
   "cell_type": "code",
   "execution_count": 11,
   "metadata": {},
   "outputs": [
    {
     "data": {
      "text/html": [
       "<div>\n",
       "<style scoped>\n",
       "    .dataframe tbody tr th:only-of-type {\n",
       "        vertical-align: middle;\n",
       "    }\n",
       "\n",
       "    .dataframe tbody tr th {\n",
       "        vertical-align: top;\n",
       "    }\n",
       "\n",
       "    .dataframe thead th {\n",
       "        text-align: right;\n",
       "    }\n",
       "</style>\n",
       "<table border=\"1\" class=\"dataframe\">\n",
       "  <thead>\n",
       "    <tr style=\"text-align: right;\">\n",
       "      <th></th>\n",
       "      <th>word_count</th>\n",
       "    </tr>\n",
       "    <tr>\n",
       "      <th>category</th>\n",
       "      <th></th>\n",
       "    </tr>\n",
       "  </thead>\n",
       "  <tbody>\n",
       "    <tr>\n",
       "      <th>Fallout</th>\n",
       "      <td>99.584498</td>\n",
       "    </tr>\n",
       "    <tr>\n",
       "      <th>GrandTheftAutoV</th>\n",
       "      <td>59.012168</td>\n",
       "    </tr>\n",
       "  </tbody>\n",
       "</table>\n",
       "</div>"
      ],
      "text/plain": [
       "                 word_count\n",
       "category                   \n",
       "Fallout           99.584498\n",
       "GrandTheftAutoV   59.012168"
      ]
     },
     "execution_count": 11,
     "metadata": {},
     "output_type": "execute_result"
    }
   ],
   "source": [
    "df.groupby(by='category')[['word_count']].mean()"
   ]
  },
  {
   "cell_type": "code",
   "execution_count": 12,
   "metadata": {},
   "outputs": [],
   "source": [
    "# Map subreddit categories to 0/1 binary variables\n",
    "df['category'] = df['category'].map({'Fallout': 0, 'GrandTheftAutoV': 1})"
   ]
  },
  {
   "cell_type": "code",
   "execution_count": 13,
   "metadata": {},
   "outputs": [
    {
     "data": {
      "image/png": "[encoded data removed]",
      "text/plain": [
       "<Figure size 432x288 with 1 Axes>"
      ]
     },
     "metadata": {
      "needs_background": "light"
     },
     "output_type": "display_data"
    }
   ],
   "source": [
    "df.hist('word_count', bins=30, range=(0, 400));"
   ]
  },
  {
   "cell_type": "markdown",
   "metadata": {},
   "source": [
    "## Text Pre-processing"
   ]
  },
  {
   "cell_type": "code",
   "execution_count": 14,
   "metadata": {},
   "outputs": [],
   "source": [
    "X = df['post_text']\n",
    "y = df['category']"
   ]
  },
  {
   "cell_type": "code",
   "execution_count": 15,
   "metadata": {},
   "outputs": [],
   "source": [
    "X_train, X_test, y_train, y_test = train_test_split(X, y, stratify=y)"
   ]
  },
  {
   "cell_type": "code",
   "execution_count": 16,
   "metadata": {},
   "outputs": [],
   "source": [
    "pipe = Pipeline([\n",
    "    ('cvec' , CountVectorizer()),\n",
    "    ('nb' , MultinomialNB())\n",
    "])"
   ]
  },
  {
   "cell_type": "code",
   "execution_count": 17,
   "metadata": {},
   "outputs": [],
   "source": [
    "params = {\n",
    "    'cvec__max_features' : [10_000, 12_000, 14_000],\n",
    "    'cvec__min_df' : [4, 5],\n",
    "    'cvec__max_df' : [0.70, 0.80],\n",
    "}"
   ]
  },
  {
   "cell_type": "code",
   "execution_count": 18,
   "metadata": {},
   "outputs": [],
   "source": [
    "gs = GridSearchCV(estimator = pipe, param_grid=params, cv=5, verbose=1)"
   ]
  },
  {
   "cell_type": "code",
   "execution_count": 19,
   "metadata": {},
   "outputs": [
    {
     "name": "stdout",
     "output_type": "stream",
     "text": [
      "Fitting 5 folds for each of 12 candidates, totalling 60 fits\n"
     ]
    },
    {
     "name": "stderr",
     "output_type": "stream",
     "text": [
      "[Parallel(n_jobs=1)]: Using backend SequentialBackend with 1 concurrent workers.\n",
      "[Parallel(n_jobs=1)]: Done  60 out of  60 | elapsed:   53.4s finished\n"
     ]
    },
    {
     "name": "stdout",
     "output_type": "stream",
     "text": [
      "CPU times: user 53.6 s, sys: 694 ms, total: 54.3 s\n",
      "Wall time: 54.3 s\n"
     ]
    },
    {
     "data": {
      "text/plain": [
       "GridSearchCV(cv=5,\n",
       "             estimator=Pipeline(steps=[('cvec', CountVectorizer()),\n",
       "                                       ('nb', MultinomialNB())]),\n",
       "             param_grid={'cvec__max_df': [0.7, 0.8],\n",
       "                         'cvec__max_features': [10000, 12000, 14000],\n",
       "                         'cvec__min_df': [4, 5]},\n",
       "             verbose=1)"
      ]
     },
     "execution_count": 19,
     "metadata": {},
     "output_type": "execute_result"
    }
   ],
   "source": [
    "%time gs.fit(X_train, y_train)"
   ]
  },
  {
   "cell_type": "code",
   "execution_count": 20,
   "metadata": {},
   "outputs": [
    {
     "data": {
      "text/plain": [
       "0.8934547453205987"
      ]
     },
     "execution_count": 20,
     "metadata": {},
     "output_type": "execute_result"
    }
   ],
   "source": [
    "gs.best_score_"
   ]
  },
  {
   "cell_type": "code",
   "execution_count": 21,
   "metadata": {},
   "outputs": [
    {
     "data": {
      "text/plain": [
       "{'cvec__max_df': 0.7, 'cvec__max_features': 10000, 'cvec__min_df': 4}"
      ]
     },
     "execution_count": 21,
     "metadata": {},
     "output_type": "execute_result"
    }
   ],
   "source": [
    "gs.best_params_"
   ]
  },
  {
   "cell_type": "code",
   "execution_count": 22,
   "metadata": {},
   "outputs": [
    {
     "data": {
      "text/plain": [
       "0.8921319796954315"
      ]
     },
     "execution_count": 22,
     "metadata": {},
     "output_type": "execute_result"
    }
   ],
   "source": [
    "gs.score(X_test, y_test)"
   ]
  },
  {
   "cell_type": "code",
   "execution_count": 23,
   "metadata": {},
   "outputs": [],
   "source": [
    "cvec_prod = CountVectorizer(max_features=14_000, max_df=.7, min_df=4, stop_words='english')\n",
    "X_train = cvec_prod.fit_transform(X_train)\n",
    "train_text_vector = pd.DataFrame(X_train.todense(), columns=cvec_prod.get_feature_names())"
   ]
  },
  {
   "cell_type": "code",
   "execution_count": 24,
   "metadata": {},
   "outputs": [],
   "source": [
    "X_test = cvec_prod.transform(X_test)\n",
    "test_text_vector = pd.DataFrame(X_test.todense(), columns=cvec_prod.get_feature_names())"
   ]
  },
  {
   "cell_type": "code",
   "execution_count": 25,
   "metadata": {},
   "outputs": [
    {
     "data": {
      "text/plain": [
       "game       8896\n",
       "fallout    8187\n",
       "just       7226\n",
       "like       6094\n",
       "new        4494\n",
       "know       3872\n",
       "ve         3613\n",
       "https      3050\n",
       "play       2941\n",
       "don        2918\n",
       "time       2905\n",
       "want       2471\n",
       "gta        2459\n",
       "really     2399\n",
       "got        2344\n",
       "help       2328\n",
       "people     2288\n",
       "amp        2285\n",
       "com        2261\n",
       "make       2199\n",
       "dtype: int64"
      ]
     },
     "execution_count": 25,
     "metadata": {},
     "output_type": "execute_result"
    }
   ],
   "source": [
    "train_text_vector.sum().sort_values(ascending=False).head(20)"
   ]
  },
  {
   "cell_type": "markdown",
   "metadata": {},
   "source": [
    "## Multinomial Naive Bayes Model"
   ]
  },
  {
   "cell_type": "code",
   "execution_count": 26,
   "metadata": {},
   "outputs": [],
   "source": [
    "nb = MultinomialNB()"
   ]
  },
  {
   "cell_type": "code",
   "execution_count": 27,
   "metadata": {},
   "outputs": [
    {
     "data": {
      "text/plain": [
       "MultinomialNB()"
      ]
     },
     "execution_count": 27,
     "metadata": {},
     "output_type": "execute_result"
    }
   ],
   "source": [
    "nb.fit(X_train, y_train)"
   ]
  },
  {
   "cell_type": "code",
   "execution_count": 28,
   "metadata": {},
   "outputs": [
    {
     "data": {
      "text/plain": [
       "0.914848613041639"
      ]
     },
     "execution_count": 28,
     "metadata": {},
     "output_type": "execute_result"
    }
   ],
   "source": [
    "nb.score(X_train, y_train)"
   ]
  },
  {
   "cell_type": "code",
   "execution_count": 29,
   "metadata": {},
   "outputs": [
    {
     "data": {
      "text/plain": [
       "0.9053662073966643"
      ]
     },
     "execution_count": 29,
     "metadata": {},
     "output_type": "execute_result"
    }
   ],
   "source": [
    "nb.score(X_test, y_test)"
   ]
  },
  {
   "cell_type": "code",
   "execution_count": 30,
   "metadata": {},
   "outputs": [],
   "source": [
    "pred = nb.predict(X_test)\n",
    "\n",
    "tn, fp, fn, tp = confusion_matrix(y_test, pred).ravel()"
   ]
  },
  {
   "cell_type": "code",
   "execution_count": 31,
   "metadata": {},
   "outputs": [
    {
     "data": {
      "image/png": "[encoded data removed]",
      "text/plain": [
       "<Figure size 432x288 with 2 Axes>"
      ]
     },
     "metadata": {
      "needs_background": "light"
     },
     "output_type": "display_data"
    }
   ],
   "source": [
    "plot_confusion_matrix(nb, X_test, y_test, cmap='Blues', values_format='d');"
   ]
  },
  {
   "cell_type": "markdown",
   "metadata": {},
   "source": [
    "## Random Forest Model"
   ]
  },
  {
   "cell_type": "code",
   "execution_count": 32,
   "metadata": {},
   "outputs": [
    {
     "name": "stdout",
     "output_type": "stream",
     "text": [
      "CPU times: user 23.8 s, sys: 3.62 s, total: 27.5 s\n",
      "Wall time: 50.1 s\n"
     ]
    },
    {
     "data": {
      "text/plain": [
       "GridSearchCV(cv=5, estimator=RandomForestClassifier(n_jobs=6),\n",
       "             param_grid={'max_depth': [50, 100, 150],\n",
       "                         'min_samples_leaf': [15, 20, 25],\n",
       "                         'n_estimators': [50, 75, 100]})"
      ]
     },
     "execution_count": 32,
     "metadata": {},
     "output_type": "execute_result"
    }
   ],
   "source": [
    "rf = RandomForestClassifier(n_jobs=6)\n",
    "\n",
    "params = {\n",
    "    'n_estimators' : [50, 75, 100],\n",
    "    'max_depth' : [50, 100, 150],\n",
    "    'min_samples_leaf' : [15, 20, 25]\n",
    "}\n",
    "\n",
    "gs_rf = GridSearchCV(rf, param_grid=params, cv=5)\n",
    "\n",
    "%time gs_rf.fit(X_train, y_train)"
   ]
  },
  {
   "cell_type": "code",
   "execution_count": 33,
   "metadata": {},
   "outputs": [
    {
     "data": {
      "text/plain": [
       "0.8860819024193836"
      ]
     },
     "execution_count": 33,
     "metadata": {},
     "output_type": "execute_result"
    }
   ],
   "source": [
    "gs_rf.best_score_"
   ]
  },
  {
   "cell_type": "code",
   "execution_count": 34,
   "metadata": {},
   "outputs": [
    {
     "data": {
      "text/plain": [
       "{'max_depth': 100, 'min_samples_leaf': 15, 'n_estimators': 100}"
      ]
     },
     "execution_count": 34,
     "metadata": {},
     "output_type": "execute_result"
    }
   ],
   "source": [
    "gs_rf.best_params_"
   ]
  },
  {
   "cell_type": "code",
   "execution_count": 35,
   "metadata": {},
   "outputs": [],
   "source": [
    "rf = RandomForestClassifier(n_estimators=100, max_depth=100, min_samples_leaf=15)"
   ]
  },
  {
   "cell_type": "code",
   "execution_count": 36,
   "metadata": {},
   "outputs": [
    {
     "data": {
      "text/plain": [
       "RandomForestClassifier(max_depth=100, min_samples_leaf=15)"
      ]
     },
     "execution_count": 36,
     "metadata": {},
     "output_type": "execute_result"
    }
   ],
   "source": [
    "rf.fit(X_train, y_train)"
   ]
  },
  {
   "cell_type": "code",
   "execution_count": 37,
   "metadata": {},
   "outputs": [
    {
     "data": {
      "text/plain": [
       "0.8965371366410829"
      ]
     },
     "execution_count": 37,
     "metadata": {},
     "output_type": "execute_result"
    }
   ],
   "source": [
    "rf.score(X_train, y_train)"
   ]
  },
  {
   "cell_type": "code",
   "execution_count": 38,
   "metadata": {},
   "outputs": [
    {
     "data": {
      "text/plain": [
       "0.8977519941986947"
      ]
     },
     "execution_count": 38,
     "metadata": {},
     "output_type": "execute_result"
    }
   ],
   "source": [
    "rf.score(X_test, y_test)"
   ]
  },
  {
   "cell_type": "code",
   "execution_count": 39,
   "metadata": {},
   "outputs": [],
   "source": [
    "pred = rf.predict(X_test)\n",
    "\n",
    "tn, fp, fn, tp = confusion_matrix(y_test, pred).ravel()"
   ]
  },
  {
   "cell_type": "code",
   "execution_count": 40,
   "metadata": {},
   "outputs": [
    {
     "data": {
      "image/png": "[encoded data removed]",
      "text/plain": [
       "<Figure size 432x288 with 2 Axes>"
      ]
     },
     "metadata": {
      "needs_background": "light"
     },
     "output_type": "display_data"
    }
   ],
   "source": [
    "plot_confusion_matrix(rf, X_test, y_test, cmap='Blues', values_format='d');"
   ]
  },
  {
   "cell_type": "code",
   "execution_count": 41,
   "metadata": {},
   "outputs": [
    {
     "data": {
      "text/plain": [
       "0    0.616389\n",
       "1    0.383611\n",
       "Name: category, dtype: float64"
      ]
     },
     "execution_count": 41,
     "metadata": {},
     "output_type": "execute_result"
    }
   ],
   "source": [
    "#Baseline model\n",
    "y_test.value_counts(normalize=True)"
   ]
  },
  {
   "cell_type": "code",
   "execution_count": 42,
   "metadata": {},
   "outputs": [
    {
     "data": {
      "text/plain": [
       "0.777882797731569"
      ]
     },
     "execution_count": 42,
     "metadata": {},
     "output_type": "execute_result"
    }
   ],
   "source": [
    "sensitivity = tp / (tp + fn)\n",
    "sensitivity"
   ]
  },
  {
   "cell_type": "code",
   "execution_count": 43,
   "metadata": {},
   "outputs": [
    {
     "data": {
      "text/plain": [
       "0.027647058823529413"
      ]
     },
     "execution_count": 43,
     "metadata": {},
     "output_type": "execute_result"
    }
   ],
   "source": [
    "specificity = fp / (fp + tn)\n",
    "specificity"
   ]
  },
  {
   "cell_type": "markdown",
   "metadata": {},
   "source": [
    "## Logistic Regression"
   ]
  },
  {
   "cell_type": "code",
   "execution_count": 44,
   "metadata": {},
   "outputs": [],
   "source": [
    "lg = LogisticRegression(solver='liblinear', max_iter=500)"
   ]
  },
  {
   "cell_type": "code",
   "execution_count": 45,
   "metadata": {},
   "outputs": [
    {
     "data": {
      "text/plain": [
       "LogisticRegression(max_iter=500, solver='liblinear')"
      ]
     },
     "execution_count": 45,
     "metadata": {},
     "output_type": "execute_result"
    }
   ],
   "source": [
    "lg.fit(X_train, y_train)"
   ]
  },
  {
   "cell_type": "code",
   "execution_count": 46,
   "metadata": {},
   "outputs": [
    {
     "data": {
      "text/plain": [
       "0.9703873813984408"
      ]
     },
     "execution_count": 46,
     "metadata": {},
     "output_type": "execute_result"
    }
   ],
   "source": [
    "lg.score(X_train, y_train)"
   ]
  },
  {
   "cell_type": "code",
   "execution_count": 47,
   "metadata": {},
   "outputs": [
    {
     "data": {
      "text/plain": [
       "0.9247643219724438"
      ]
     },
     "execution_count": 47,
     "metadata": {},
     "output_type": "execute_result"
    }
   ],
   "source": [
    "lg.score(X_test, y_test)"
   ]
  },
  {
   "cell_type": "code",
   "execution_count": 48,
   "metadata": {},
   "outputs": [],
   "source": [
    "pred = rf.predict(X_test)\n",
    "\n",
    "tn, fp, fn, tp = confusion_matrix(y_test, pred).ravel()"
   ]
  },
  {
   "cell_type": "code",
   "execution_count": 49,
   "metadata": {},
   "outputs": [
    {
     "data": {
      "image/png": "[encoded data removed]",
      "text/plain": [
       "<Figure size 432x288 with 2 Axes>"
      ]
     },
     "metadata": {
      "needs_background": "light"
     },
     "output_type": "display_data"
    }
   ],
   "source": [
    "plot_confusion_matrix(lg, X_test, y_test, cmap='Blues', values_format='d');"
   ]
  },
  {
   "cell_type": "code",
   "execution_count": null,
   "metadata": {},
   "outputs": [],
   "source": []
  }
 ],
 "metadata": {
  "kernelspec": {
   "display_name": "Python 3",
   "language": "python",
   "name": "python3"
  },
  "language_info": {
   "codemirror_mode": {
    "name": "ipython",
    "version": 3
   },
   "file_extension": ".py",
   "mimetype": "text/x-python",
   "name": "python",
   "nbconvert_exporter": "python",
   "pygments_lexer": "ipython3",
   "version": "3.8.5"
  }
 },
 "nbformat": 4,
 "nbformat_minor": 4
}
